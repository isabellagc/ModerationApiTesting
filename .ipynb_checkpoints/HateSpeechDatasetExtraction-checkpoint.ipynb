{
 "cells": [
  {
   "cell_type": "code",
   "execution_count": 18,
   "metadata": {},
   "outputs": [
    {
     "name": "stdout",
     "output_type": "stream",
     "text": [
      "1914\n"
     ]
    },
    {
     "data": {
      "text/html": [
       "<div>\n",
       "<style scoped>\n",
       "    .dataframe tbody tr th:only-of-type {\n",
       "        vertical-align: middle;\n",
       "    }\n",
       "\n",
       "    .dataframe tbody tr th {\n",
       "        vertical-align: top;\n",
       "    }\n",
       "\n",
       "    .dataframe thead th {\n",
       "        text-align: right;\n",
       "    }\n",
       "</style>\n",
       "<table border=\"1\" class=\"dataframe\">\n",
       "  <thead>\n",
       "    <tr style=\"text-align: right;\">\n",
       "      <th></th>\n",
       "      <th>examples</th>\n",
       "    </tr>\n",
       "  </thead>\n",
       "  <tbody>\n",
       "    <tr>\n",
       "      <th>0</th>\n",
       "      <td>Ready .... GO !!!</td>\n",
       "    </tr>\n",
       "    <tr>\n",
       "      <th>1</th>\n",
       "      <td>If i sent you some pic wound use be able to pu...</td>\n",
       "    </tr>\n",
       "    <tr>\n",
       "      <th>2</th>\n",
       "      <td>ALWAYS SPEAK OUT WHEN IN A CLASS WITH A BRAINW...</td>\n",
       "    </tr>\n",
       "    <tr>\n",
       "      <th>3</th>\n",
       "      <td>They fit the same DNA as the DNA found in anci...</td>\n",
       "    </tr>\n",
       "    <tr>\n",
       "      <th>4</th>\n",
       "      <td>I would not be surprised if this woman was spe...</td>\n",
       "    </tr>\n",
       "  </tbody>\n",
       "</table>\n",
       "</div>"
      ],
      "text/plain": [
       "                                            examples\n",
       "0                                  Ready .... GO !!!\n",
       "1  If i sent you some pic wound use be able to pu...\n",
       "2  ALWAYS SPEAK OUT WHEN IN A CLASS WITH A BRAINW...\n",
       "3  They fit the same DNA as the DNA found in anci...\n",
       "4  I would not be surprised if this woman was spe..."
      ]
     },
     "execution_count": 18,
     "metadata": {},
     "output_type": "execute_result"
    }
   ],
   "source": [
    "import numpy as np\n",
    "import pandas as pd\n",
    "import os  \n",
    "PATH = 'HateSpeechDataset/'\n",
    "TRAIN = 'sampled_train/'\n",
    "TEST = 'sampled_test/'\n",
    "\n",
    "\n",
    "keys = pd.read_csv(PATH + 'annotations_metadata.csv')\n",
    "keys.head()\n",
    "\n",
    "\n",
    "train_list = []\n",
    "for filename in os.listdir(PATH + TRAIN):\n",
    "    with open(PATH + TRAIN + filename) as inp:\n",
    "        data = list(inp)\n",
    "        train_list.append(data[0])\n",
    "        \n",
    "test_list = []\n",
    "for filename in os.listdir(PATH + TEST):\n",
    "    with open(PATH + TEST + filename) as inp:\n",
    "        data = list(inp)\n",
    "        test_list.append(data[0])\n",
    "\n",
    "train = pd.DataFrame(train_list, columns = ['examples'])\n",
    "test = pd.DataFrame(test_list, columns = ['examples'])"
   ]
  },
  {
   "cell_type": "code",
   "execution_count": 3,
   "metadata": {},
   "outputs": [
    {
     "name": "stdout",
     "output_type": "stream",
     "text": [
      "\u001b[34mHateSpeechDataset\u001b[m\u001b[m                 HateSpeechDatasetExtraction.ipynb\r\n"
     ]
    }
   ],
   "source": []
  },
  {
   "cell_type": "code",
   "execution_count": null,
   "metadata": {},
   "outputs": [],
   "source": []
  }
 ],
 "metadata": {
  "kernelspec": {
   "display_name": "Python 3",
   "language": "python",
   "name": "python3"
  },
  "language_info": {
   "codemirror_mode": {
    "name": "ipython",
    "version": 3
   },
   "file_extension": ".py",
   "mimetype": "text/x-python",
   "name": "python",
   "nbconvert_exporter": "python",
   "pygments_lexer": "ipython3",
   "version": "3.7.1"
  }
 },
 "nbformat": 4,
 "nbformat_minor": 2
}

{
 "cells": [
  {
   "cell_type": "code",
   "execution_count": 19,
   "metadata": {},
   "outputs": [],
   "source": [
    "import numpy as np\n",
    "import pandas as pd\n",
    "import os  \n",
    "PATH = 'HateSpeechDataset/'\n",
    "TRAIN = 'sampled_train/'\n",
    "TEST = 'sampled_test/'\n",
    "\n",
    "\n",
    "keys = pd.read_csv(PATH + 'annotations_metadata.csv')\n",
    "keys.head()\n",
    "\n",
    "\n",
    "train_list = []\n",
    "for filename in os.listdir(PATH + TRAIN):\n",
    "    with open(PATH + TRAIN + filename) as inp:\n",
    "        data = list(inp)\n",
    "        train_list.append(data[0])\n",
    "        \n",
    "test_list = []\n",
    "for filename in os.listdir(PATH + TEST):\n",
    "    with open(PATH + TEST + filename) as inp:\n",
    "        data = list(inp)\n",
    "        test_list.append(data[0])\n",
    "\n",
    "train = pd.DataFrame(train_list, columns = ['examples'])\n",
    "test = pd.DataFrame(test_list, columns = ['examples'])"
   ]
  },
  {
   "cell_type": "code",
   "execution_count": 23,
   "metadata": {},
   "outputs": [
    {
     "data": {
      "text/plain": [
       "((1914, 1), (478, 1), (10944, 5))"
      ]
     },
     "execution_count": 23,
     "metadata": {},
     "output_type": "execute_result"
    }
   ],
   "source": [
    "train.shape, test.shape, keys.shape"
   ]
  },
  {
   "cell_type": "code",
   "execution_count": null,
   "metadata": {},
   "outputs": [],
   "source": []
  }
 ],
 "metadata": {
  "kernelspec": {
   "display_name": "Python 3",
   "language": "python",
   "name": "python3"
  },
  "language_info": {
   "codemirror_mode": {
    "name": "ipython",
    "version": 3
   },
   "file_extension": ".py",
   "mimetype": "text/x-python",
   "name": "python",
   "nbconvert_exporter": "python",
   "pygments_lexer": "ipython3",
   "version": "3.7.1"
  }
 },
 "nbformat": 4,
 "nbformat_minor": 2
}
